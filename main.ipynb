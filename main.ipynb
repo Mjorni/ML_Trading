{
 "cells": [
  {
   "cell_type": "code",
   "execution_count": 199,
   "metadata": {},
   "outputs": [
    {
     "data": {
      "text/plain": [
       "'\\n%pip install pandas\\n%pip install numpy\\n%pip install matplotlib\\n%pip install tensorflow\\n%pip install scikit-learn\\n%pip install tensorflow\\n%pip install keras\\n'"
      ]
     },
     "execution_count": 199,
     "metadata": {},
     "output_type": "execute_result"
    }
   ],
   "source": [
    "#Установка всех необходимых модулей\n",
    "\"\"\"\n",
    "%pip install pandas\n",
    "%pip install numpy\n",
    "%pip install matplotlib\n",
    "%pip install tensorflow\n",
    "%pip install scikit-learn\n",
    "%pip install tensorflow\n",
    "%pip install keras\n",
    "\"\"\"\n"
   ]
  },
  {
   "cell_type": "code",
   "execution_count": 200,
   "metadata": {},
   "outputs": [],
   "source": [
    "import pandas as pd\n",
    "import numpy as np\n",
    "from matplotlib import pyplot as plt\n",
    "\n",
    "from sklearn.preprocessing import MinMaxScaler\n"
   ]
  },
  {
   "cell_type": "code",
   "execution_count": 201,
   "metadata": {},
   "outputs": [
    {
     "data": {
      "text/html": [
       "<div>\n",
       "<style scoped>\n",
       "    .dataframe tbody tr th:only-of-type {\n",
       "        vertical-align: middle;\n",
       "    }\n",
       "\n",
       "    .dataframe tbody tr th {\n",
       "        vertical-align: top;\n",
       "    }\n",
       "\n",
       "    .dataframe thead th {\n",
       "        text-align: right;\n",
       "    }\n",
       "</style>\n",
       "<table border=\"1\" class=\"dataframe\">\n",
       "  <thead>\n",
       "    <tr style=\"text-align: right;\">\n",
       "      <th></th>\n",
       "      <th>Date</th>\n",
       "      <th>Open</th>\n",
       "      <th>High</th>\n",
       "      <th>Low</th>\n",
       "      <th>Close</th>\n",
       "      <th>Adj Close</th>\n",
       "      <th>Volume</th>\n",
       "    </tr>\n",
       "  </thead>\n",
       "  <tbody>\n",
       "    <tr>\n",
       "      <th>0</th>\n",
       "      <td>1997-03-27</td>\n",
       "      <td>2.062500</td>\n",
       "      <td>2.093750</td>\n",
       "      <td>2.000000</td>\n",
       "      <td>2.023438</td>\n",
       "      <td>1.525964</td>\n",
       "      <td>10659200</td>\n",
       "    </tr>\n",
       "    <tr>\n",
       "      <th>1</th>\n",
       "      <td>1997-03-31</td>\n",
       "      <td>2.046875</td>\n",
       "      <td>2.046875</td>\n",
       "      <td>2.000000</td>\n",
       "      <td>2.031250</td>\n",
       "      <td>1.531856</td>\n",
       "      <td>1594400</td>\n",
       "    </tr>\n",
       "    <tr>\n",
       "      <th>2</th>\n",
       "      <td>1997-04-01</td>\n",
       "      <td>2.078125</td>\n",
       "      <td>2.093750</td>\n",
       "      <td>2.031250</td>\n",
       "      <td>2.093750</td>\n",
       "      <td>1.578990</td>\n",
       "      <td>2324000</td>\n",
       "    </tr>\n",
       "    <tr>\n",
       "      <th>3</th>\n",
       "      <td>1997-04-02</td>\n",
       "      <td>2.132813</td>\n",
       "      <td>2.140625</td>\n",
       "      <td>2.062500</td>\n",
       "      <td>2.062500</td>\n",
       "      <td>1.555423</td>\n",
       "      <td>745600</td>\n",
       "    </tr>\n",
       "    <tr>\n",
       "      <th>4</th>\n",
       "      <td>1997-04-03</td>\n",
       "      <td>2.093750</td>\n",
       "      <td>2.109375</td>\n",
       "      <td>2.046875</td>\n",
       "      <td>2.093750</td>\n",
       "      <td>1.578990</td>\n",
       "      <td>651200</td>\n",
       "    </tr>\n",
       "    <tr>\n",
       "      <th>...</th>\n",
       "      <td>...</td>\n",
       "      <td>...</td>\n",
       "      <td>...</td>\n",
       "      <td>...</td>\n",
       "      <td>...</td>\n",
       "      <td>...</td>\n",
       "      <td>...</td>\n",
       "    </tr>\n",
       "    <tr>\n",
       "      <th>6768</th>\n",
       "      <td>2024-02-20</td>\n",
       "      <td>87.620003</td>\n",
       "      <td>87.980003</td>\n",
       "      <td>86.739998</td>\n",
       "      <td>87.790001</td>\n",
       "      <td>87.790001</td>\n",
       "      <td>466700</td>\n",
       "    </tr>\n",
       "    <tr>\n",
       "      <th>6769</th>\n",
       "      <td>2024-02-21</td>\n",
       "      <td>86.750000</td>\n",
       "      <td>87.230003</td>\n",
       "      <td>86.290001</td>\n",
       "      <td>86.739998</td>\n",
       "      <td>86.739998</td>\n",
       "      <td>512400</td>\n",
       "    </tr>\n",
       "    <tr>\n",
       "      <th>6770</th>\n",
       "      <td>2024-02-22</td>\n",
       "      <td>87.839996</td>\n",
       "      <td>89.290001</td>\n",
       "      <td>87.800003</td>\n",
       "      <td>89.000000</td>\n",
       "      <td>89.000000</td>\n",
       "      <td>364000</td>\n",
       "    </tr>\n",
       "    <tr>\n",
       "      <th>6771</th>\n",
       "      <td>2024-02-23</td>\n",
       "      <td>90.000000</td>\n",
       "      <td>90.000000</td>\n",
       "      <td>89.120003</td>\n",
       "      <td>89.639999</td>\n",
       "      <td>89.639999</td>\n",
       "      <td>288400</td>\n",
       "    </tr>\n",
       "    <tr>\n",
       "      <th>6772</th>\n",
       "      <td>2024-02-26</td>\n",
       "      <td>90.080002</td>\n",
       "      <td>90.199997</td>\n",
       "      <td>89.599998</td>\n",
       "      <td>89.849998</td>\n",
       "      <td>89.849998</td>\n",
       "      <td>397000</td>\n",
       "    </tr>\n",
       "  </tbody>\n",
       "</table>\n",
       "<p>6773 rows × 7 columns</p>\n",
       "</div>"
      ],
      "text/plain": [
       "           Date       Open       High        Low      Close  Adj Close  \\\n",
       "0    1997-03-27   2.062500   2.093750   2.000000   2.023438   1.525964   \n",
       "1    1997-03-31   2.046875   2.046875   2.000000   2.031250   1.531856   \n",
       "2    1997-04-01   2.078125   2.093750   2.031250   2.093750   1.578990   \n",
       "3    1997-04-02   2.132813   2.140625   2.062500   2.062500   1.555423   \n",
       "4    1997-04-03   2.093750   2.109375   2.046875   2.093750   1.578990   \n",
       "...         ...        ...        ...        ...        ...        ...   \n",
       "6768 2024-02-20  87.620003  87.980003  86.739998  87.790001  87.790001   \n",
       "6769 2024-02-21  86.750000  87.230003  86.290001  86.739998  86.739998   \n",
       "6770 2024-02-22  87.839996  89.290001  87.800003  89.000000  89.000000   \n",
       "6771 2024-02-23  90.000000  90.000000  89.120003  89.639999  89.639999   \n",
       "6772 2024-02-26  90.080002  90.199997  89.599998  89.849998  89.849998   \n",
       "\n",
       "        Volume  \n",
       "0     10659200  \n",
       "1      1594400  \n",
       "2      2324000  \n",
       "3       745600  \n",
       "4       651200  \n",
       "...        ...  \n",
       "6768    466700  \n",
       "6769    512400  \n",
       "6770    364000  \n",
       "6771    288400  \n",
       "6772    397000  \n",
       "\n",
       "[6773 rows x 7 columns]"
      ]
     },
     "execution_count": 201,
     "metadata": {},
     "output_type": "execute_result"
    }
   ],
   "source": [
    "df = pd.read_csv(\"LOGI.csv\", parse_dates=[\"Date\"])\n",
    "df"
   ]
  },
  {
   "cell_type": "code",
   "execution_count": 202,
   "metadata": {},
   "outputs": [
    {
     "data": {
      "text/html": [
       "<div>\n",
       "<style scoped>\n",
       "    .dataframe tbody tr th:only-of-type {\n",
       "        vertical-align: middle;\n",
       "    }\n",
       "\n",
       "    .dataframe tbody tr th {\n",
       "        vertical-align: top;\n",
       "    }\n",
       "\n",
       "    .dataframe thead th {\n",
       "        text-align: right;\n",
       "    }\n",
       "</style>\n",
       "<table border=\"1\" class=\"dataframe\">\n",
       "  <thead>\n",
       "    <tr style=\"text-align: right;\">\n",
       "      <th></th>\n",
       "      <th>Open</th>\n",
       "      <th>Close</th>\n",
       "      <th>Low</th>\n",
       "      <th>High</th>\n",
       "    </tr>\n",
       "  </thead>\n",
       "  <tbody>\n",
       "    <tr>\n",
       "      <th>Open</th>\n",
       "      <td>1.000000</td>\n",
       "      <td>0.999792</td>\n",
       "      <td>0.999882</td>\n",
       "      <td>0.999900</td>\n",
       "    </tr>\n",
       "    <tr>\n",
       "      <th>Close</th>\n",
       "      <td>0.999792</td>\n",
       "      <td>1.000000</td>\n",
       "      <td>0.999909</td>\n",
       "      <td>0.999901</td>\n",
       "    </tr>\n",
       "    <tr>\n",
       "      <th>Low</th>\n",
       "      <td>0.999882</td>\n",
       "      <td>0.999909</td>\n",
       "      <td>1.000000</td>\n",
       "      <td>0.999853</td>\n",
       "    </tr>\n",
       "    <tr>\n",
       "      <th>High</th>\n",
       "      <td>0.999900</td>\n",
       "      <td>0.999901</td>\n",
       "      <td>0.999853</td>\n",
       "      <td>1.000000</td>\n",
       "    </tr>\n",
       "  </tbody>\n",
       "</table>\n",
       "</div>"
      ],
      "text/plain": [
       "           Open     Close       Low      High\n",
       "Open   1.000000  0.999792  0.999882  0.999900\n",
       "Close  0.999792  1.000000  0.999909  0.999901\n",
       "Low    0.999882  0.999909  1.000000  0.999853\n",
       "High   0.999900  0.999901  0.999853  1.000000"
      ]
     },
     "execution_count": 202,
     "metadata": {},
     "output_type": "execute_result"
    }
   ],
   "source": [
    "df[[\"Open\", \"Close\", \"Low\", \"High\"]].corr()"
   ]
  },
  {
   "cell_type": "code",
   "execution_count": 203,
   "metadata": {},
   "outputs": [
    {
     "data": {
      "text/plain": [
       "<matplotlib.legend.Legend at 0x2a73f7430>"
      ]
     },
     "execution_count": 203,
     "metadata": {},
     "output_type": "execute_result"
    },
    {
     "data": {
      "image/png": "[encoded data removed]",
      "text/plain": [
       "<Figure size 640x480 with 1 Axes>"
      ]
     },
     "metadata": {},
     "output_type": "display_data"
    }
   ],
   "source": [
    "plt.plot(df[[\"Open\", \"Close\", \"Low\", \"High\"]], label = [\"Open\", \"Close\", \"Low\", \"High\"], linewidth = 0.5)\n",
    "plt.legend()"
   ]
  },
  {
   "cell_type": "code",
   "execution_count": 204,
   "metadata": {},
   "outputs": [
    {
     "name": "stdout",
     "output_type": "stream",
     "text": [
      "x train -> (6085, 10)  \n",
      "y train -> (6085,)  \n",
      "x test  -> (677, 10) \n",
      "y test  -> (677,)\n"
     ]
    }
   ],
   "source": [
    "#   Разделение данных на тестовые и тренеровочные\n",
    "def stab_data(name_col):\n",
    "    \"Нормализация данных\"\n",
    "    column = df[name_col].astype('float')\n",
    "    #train = column[:int(len(column))] #не обязательно. ничего не делает, в случае чего, позже можно будет удалить\n",
    "    scale_col = MinMaxScaler()\n",
    "    scale_col.fit(column.values.reshape(-1, 1))\n",
    "    column = scale_col.transform(column.values.reshape(-1, 1))\n",
    "    return column\n",
    "\n",
    "\n",
    "def xyarray(data):\n",
    "    \"Разбиение массива на x y \"\n",
    "    x, y = [], []\n",
    "    for i in range(len(data) - lb - 1):\n",
    "        x.append(data[i:(i + lb), 0])\n",
    "        y.append(data[(i + lb), 0])\n",
    "    return np.array(x), np.array(y)\n",
    "\n",
    "\"\"\"Разбиение на тестовые и тренеровочные данные\"\"\"\n",
    "lb = 10 \n",
    "val = 0.9\n",
    "x,y = xyarray(stab_data(\"Close\"))\n",
    "\n",
    "x_train, x_test = x[:int(x.shape[0] * val)], x[int(x.shape[0] * val):]\n",
    "y_train, y_test = y[:int(x.shape[0] * val)], y[int(x.shape[0] * val):]\n",
    "print(f\"x train -> {x_train.shape}  \\ny train -> {y_train.shape}  \\nx test  -> {x_test.shape} \\ny test  -> {y_test.shape}\")"
   ]
  },
  {
   "cell_type": "markdown",
   "metadata": {},
   "source": [
    "Раздел с обучением"
   ]
  },
  {
   "cell_type": "code",
   "execution_count": 205,
   "metadata": {},
   "outputs": [],
   "source": [
    "from tensorflow.keras.models import Sequential\n",
    "from tensorflow.keras.layers import Dense, LSTM, Dropout, Activation"
   ]
  },
  {
   "cell_type": "code",
   "execution_count": 247,
   "metadata": {},
   "outputs": [
    {
     "name": "stdout",
     "output_type": "stream",
     "text": [
      "Epoch 1/50\n",
      "191/191 [==============================] - 2s 6ms/step - loss: 7.6001e-04\n",
      "Epoch 2/50\n",
      "191/191 [==============================] - 1s 6ms/step - loss: 0.0021\n",
      "Epoch 3/50\n",
      "191/191 [==============================] - 1s 6ms/step - loss: 0.0011\n",
      "Epoch 4/50\n",
      "191/191 [==============================] - 1s 7ms/step - loss: 3.5574e-04\n",
      "Epoch 5/50\n",
      "191/191 [==============================] - 1s 7ms/step - loss: 4.2636e-04\n",
      "Epoch 6/50\n",
      "191/191 [==============================] - 1s 6ms/step - loss: 4.9797e-04\n",
      "Epoch 7/50\n",
      "191/191 [==============================] - 1s 6ms/step - loss: 1.9329e-04\n",
      "Epoch 8/50\n",
      "191/191 [==============================] - 1s 6ms/step - loss: 1.4019e-04\n",
      "Epoch 9/50\n",
      "191/191 [==============================] - 1s 6ms/step - loss: 8.6003e-05\n",
      "Epoch 10/50\n",
      "191/191 [==============================] - 1s 6ms/step - loss: 2.4373e-04\n",
      "Epoch 11/50\n",
      "191/191 [==============================] - 1s 6ms/step - loss: 2.9914e-04\n",
      "Epoch 12/50\n",
      "191/191 [==============================] - 1s 6ms/step - loss: 8.3819e-05\n",
      "Epoch 13/50\n",
      "191/191 [==============================] - 1s 6ms/step - loss: 7.7332e-05\n",
      "Epoch 14/50\n",
      "191/191 [==============================] - 1s 6ms/step - loss: 1.0337e-04\n",
      "Epoch 15/50\n",
      "191/191 [==============================] - 1s 6ms/step - loss: 1.6266e-04\n",
      "Epoch 16/50\n",
      "191/191 [==============================] - 1s 6ms/step - loss: 2.4755e-04\n",
      "Epoch 17/50\n",
      "191/191 [==============================] - 1s 6ms/step - loss: 3.9011e-04\n",
      "Epoch 18/50\n",
      "191/191 [==============================] - 1s 6ms/step - loss: 1.1964e-04\n",
      "Epoch 19/50\n",
      "191/191 [==============================] - 1s 6ms/step - loss: 1.5515e-04\n",
      "Epoch 20/50\n",
      "191/191 [==============================] - 1s 6ms/step - loss: 1.0616e-04\n",
      "Epoch 21/50\n",
      "191/191 [==============================] - 1s 6ms/step - loss: 1.4620e-04\n",
      "Epoch 22/50\n",
      "191/191 [==============================] - 1s 6ms/step - loss: 6.4390e-05\n",
      "Epoch 23/50\n",
      "191/191 [==============================] - 1s 7ms/step - loss: 9.2702e-05\n",
      "Epoch 24/50\n",
      "191/191 [==============================] - 1s 7ms/step - loss: 6.2207e-05\n",
      "Epoch 25/50\n",
      "191/191 [==============================] - 1s 7ms/step - loss: 1.2386e-04\n",
      "Epoch 26/50\n",
      "191/191 [==============================] - 1s 6ms/step - loss: 3.4796e-04\n",
      "Epoch 27/50\n",
      "191/191 [==============================] - 1s 6ms/step - loss: 3.9981e-04\n",
      "Epoch 28/50\n",
      "191/191 [==============================] - 1s 6ms/step - loss: 2.7865e-04\n",
      "Epoch 29/50\n",
      "191/191 [==============================] - 1s 6ms/step - loss: 2.9684e-04\n",
      "Epoch 30/50\n",
      "191/191 [==============================] - 1s 6ms/step - loss: 9.0690e-05\n",
      "Epoch 31/50\n",
      "191/191 [==============================] - 1s 6ms/step - loss: 1.1661e-04\n",
      "Epoch 32/50\n",
      "191/191 [==============================] - 1s 6ms/step - loss: 8.2223e-05\n",
      "Epoch 33/50\n",
      "191/191 [==============================] - 1s 6ms/step - loss: 5.2243e-05\n",
      "Epoch 34/50\n",
      "191/191 [==============================] - 1s 6ms/step - loss: 5.0478e-05\n",
      "Epoch 35/50\n",
      "191/191 [==============================] - 1s 6ms/step - loss: 5.2980e-05\n",
      "Epoch 36/50\n",
      "191/191 [==============================] - 1s 6ms/step - loss: 5.8961e-05\n",
      "Epoch 37/50\n",
      "191/191 [==============================] - 1s 6ms/step - loss: 5.0688e-05\n",
      "Epoch 38/50\n",
      "191/191 [==============================] - 1s 6ms/step - loss: 6.8563e-05\n",
      "Epoch 39/50\n",
      "191/191 [==============================] - 1s 6ms/step - loss: 5.4217e-05\n",
      "Epoch 40/50\n",
      "191/191 [==============================] - 1s 6ms/step - loss: 7.6852e-05\n",
      "Epoch 41/50\n",
      "191/191 [==============================] - 1s 6ms/step - loss: 5.7820e-05\n",
      "Epoch 42/50\n",
      "191/191 [==============================] - 1s 7ms/step - loss: 6.0951e-05\n",
      "Epoch 43/50\n",
      "191/191 [==============================] - 1s 7ms/step - loss: 7.8173e-05\n",
      "Epoch 44/50\n",
      "191/191 [==============================] - 1s 6ms/step - loss: 1.1340e-04\n",
      "Epoch 45/50\n",
      "191/191 [==============================] - 1s 7ms/step - loss: 2.0307e-04\n",
      "Epoch 46/50\n",
      "191/191 [==============================] - 1s 6ms/step - loss: 3.0059e-04\n",
      "Epoch 47/50\n",
      "191/191 [==============================] - 1s 6ms/step - loss: 8.3404e-05\n",
      "Epoch 48/50\n",
      "191/191 [==============================] - 1s 6ms/step - loss: 9.8919e-05\n",
      "Epoch 49/50\n",
      "191/191 [==============================] - 1s 6ms/step - loss: 5.7045e-05\n",
      "Epoch 50/50\n",
      "191/191 [==============================] - 1s 6ms/step - loss: 6.1126e-05\n",
      "22/22 [==============================] - 0s 2ms/step\n",
      "22/22 [==============================] - 0s 2ms/step - loss: 2.0005e-04\n"
     ]
    },
    {
     "data": {
      "text/plain": [
       "0.0002000451786443591"
      ]
     },
     "execution_count": 247,
     "metadata": {},
     "output_type": "execute_result"
    },
    {
     "data": {
      "image/png": "[encoded data removed]",
      "text/plain": [
       "<Figure size 640x480 with 1 Axes>"
      ]
     },
     "metadata": {},
     "output_type": "display_data"
    }
   ],
   "source": [
    "#Создание модели\n",
    "model = Sequential([\n",
    "            LSTM(128, input_shape = (lb, 1), return_sequences = True),\n",
    "            Dropout(0.1),\n",
    "            LSTM(10),\n",
    "            Dense(1)\n",
    "        ])\n",
    "model.compile(optimizer = 'adam', loss = 'mse')\n",
    "\n",
    "history = model.fit(x_train, y_train, epochs = 50, shuffle=False)\n",
    "get_result()\n",
    "model.evaluate(x_test, y_test)"
   ]
  },
  {
   "cell_type": "code",
   "execution_count": 210,
   "metadata": {},
   "outputs": [],
   "source": [
    "x_train = x_train.reshape((x_train.shape[0], x_train.shape[1], 1))"
   ]
  },
  {
   "cell_type": "code",
   "execution_count": 243,
   "metadata": {},
   "outputs": [],
   "source": [
    "\n",
    "\n",
    "\n"
   ]
  },
  {
   "cell_type": "code",
   "execution_count": 234,
   "metadata": {},
   "outputs": [],
   "source": [
    "def get_result():\n",
    "    result_predict = model.predict(x_test)\n",
    "\n",
    "    plt.plot(result_predict, label = 'x')\n",
    "    plt.plot(y_test, label = 'y')\n",
    "    plt.legend()\n",
    "    "
   ]
  }
 ],
 "metadata": {
  "kernelspec": {
   "display_name": "venv",
   "language": "python",
   "name": "python3"
  },
  "language_info": {
   "codemirror_mode": {
    "name": "ipython",
    "version": 3
   },
   "file_extension": ".py",
   "mimetype": "text/x-python",
   "name": "python",
   "nbconvert_exporter": "python",
   "pygments_lexer": "ipython3",
   "version": "3.10.11"
  }
 },
 "nbformat": 4,
 "nbformat_minor": 2
}
